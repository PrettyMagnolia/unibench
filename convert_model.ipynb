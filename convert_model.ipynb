{
 "cells": [
  {
   "cell_type": "code",
   "execution_count": 11,
   "metadata": {},
   "outputs": [
    {
     "data": {
      "text/plain": [
       "True"
      ]
     },
     "execution_count": 11,
     "metadata": {},
     "output_type": "execute_result"
    }
   ],
   "source": [
    "import torch\n",
    "\n",
    "# 加载原始的 .pth 文件\n",
    "original_pth_file = \"/mnt/shared/unibench/models/semantic-clip/semantic_clip_vit_b_16_6e-6.pth\"  # 原始文件路径\n",
    "new_pth_file = original_pth_file\n",
    "\n",
    "# 加载 .pth 文件\n",
    "checkpoint = torch.load(original_pth_file)\n",
    "\"model_state_dict\" in checkpoint\n"
   ]
  },
  {
   "cell_type": "code",
   "execution_count": 4,
   "metadata": {},
   "outputs": [
    {
     "name": "stdout",
     "output_type": "stream",
     "text": [
      "模型权重已成功保存到 /mnt/shared/unibench/models/semantic-clip/semantic_clip_vit_b_16_4e-6.pth\n"
     ]
    }
   ],
   "source": [
    "# 检查文件内容\n",
    "if \"model_state_dict\" in checkpoint:\n",
    "    state_dict = checkpoint[\"model_state_dict\"]  # 提取模型权重\n",
    "else:\n",
    "    state_dict = checkpoint  # 如果直接是 state_dict\n",
    "new_pth_file = original_pth_file\n",
    "# 重新保存为只包含 state_dict 的 .pth 文件\n",
    "torch.save(state_dict, new_pth_file)\n",
    "\n",
    "print(f\"模型权重已成功保存到 {new_pth_file}\")"
   ]
  }
 ],
 "metadata": {
  "kernelspec": {
   "display_name": "ai",
   "language": "python",
   "name": "python3"
  },
  "language_info": {
   "codemirror_mode": {
    "name": "ipython",
    "version": 3
   },
   "file_extension": ".py",
   "mimetype": "text/x-python",
   "name": "python",
   "nbconvert_exporter": "python",
   "pygments_lexer": "ipython3",
   "version": "3.8.19"
  }
 },
 "nbformat": 4,
 "nbformat_minor": 2
}
